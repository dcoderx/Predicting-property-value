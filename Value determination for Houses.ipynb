{
 "cells": [
  {
   "cell_type": "code",
   "execution_count": 1,
   "metadata": {},
   "outputs": [],
   "source": [
    "import pandas as pd\n",
    "import seaborn as sns\n",
    "import numpy as np"
   ]
  },
  {
   "cell_type": "code",
   "execution_count": 2,
   "metadata": {},
   "outputs": [],
   "source": [
    "data = pd.read_csv(\"house_price.csv\")"
   ]
  },
  {
   "cell_type": "code",
   "execution_count": 3,
   "metadata": {
    "scrolled": true
   },
   "outputs": [
    {
     "data": {
      "text/html": [
       "<div>\n",
       "<style scoped>\n",
       "    .dataframe tbody tr th:only-of-type {\n",
       "        vertical-align: middle;\n",
       "    }\n",
       "\n",
       "    .dataframe tbody tr th {\n",
       "        vertical-align: top;\n",
       "    }\n",
       "\n",
       "    .dataframe thead th {\n",
       "        text-align: right;\n",
       "    }\n",
       "</style>\n",
       "<table border=\"1\" class=\"dataframe\">\n",
       "  <thead>\n",
       "    <tr style=\"text-align: right;\">\n",
       "      <th></th>\n",
       "      <th>land_size_sqm</th>\n",
       "      <th>house_size_sqm</th>\n",
       "      <th>no_of_rooms</th>\n",
       "      <th>no_of_bathrooms</th>\n",
       "      <th>large_living_room</th>\n",
       "      <th>parking_space</th>\n",
       "      <th>front_garden</th>\n",
       "      <th>swimming_pool</th>\n",
       "      <th>distance_to_school</th>\n",
       "      <th>wall_fence</th>\n",
       "      <th>house_age</th>\n",
       "      <th>water_front</th>\n",
       "      <th>distance_to_supermarket_km</th>\n",
       "      <th>crime_rate_index</th>\n",
       "      <th>room_size</th>\n",
       "      <th>property_value</th>\n",
       "    </tr>\n",
       "  </thead>\n",
       "  <tbody>\n",
       "    <tr>\n",
       "      <th>0</th>\n",
       "      <td>201</td>\n",
       "      <td>177</td>\n",
       "      <td>3</td>\n",
       "      <td>1</td>\n",
       "      <td>0</td>\n",
       "      <td>1</td>\n",
       "      <td>1</td>\n",
       "      <td>0</td>\n",
       "      <td>3.3</td>\n",
       "      <td>1</td>\n",
       "      <td>10</td>\n",
       "      <td>0</td>\n",
       "      <td>6.8</td>\n",
       "      <td>0.90</td>\n",
       "      <td>0</td>\n",
       "      <td>165432</td>\n",
       "    </tr>\n",
       "    <tr>\n",
       "      <th>1</th>\n",
       "      <td>196</td>\n",
       "      <td>182</td>\n",
       "      <td>4</td>\n",
       "      <td>3</td>\n",
       "      <td>1</td>\n",
       "      <td>1</td>\n",
       "      <td>0</td>\n",
       "      <td>1</td>\n",
       "      <td>1.2</td>\n",
       "      <td>1</td>\n",
       "      <td>11</td>\n",
       "      <td>0</td>\n",
       "      <td>4.1</td>\n",
       "      <td>1.42</td>\n",
       "      <td>1</td>\n",
       "      <td>187043</td>\n",
       "    </tr>\n",
       "    <tr>\n",
       "      <th>2</th>\n",
       "      <td>198</td>\n",
       "      <td>182</td>\n",
       "      <td>4</td>\n",
       "      <td>4</td>\n",
       "      <td>1</td>\n",
       "      <td>1</td>\n",
       "      <td>0</td>\n",
       "      <td>1</td>\n",
       "      <td>5.9</td>\n",
       "      <td>0</td>\n",
       "      <td>20</td>\n",
       "      <td>0</td>\n",
       "      <td>2.1</td>\n",
       "      <td>4.12</td>\n",
       "      <td>1</td>\n",
       "      <td>148658</td>\n",
       "    </tr>\n",
       "    <tr>\n",
       "      <th>3</th>\n",
       "      <td>178</td>\n",
       "      <td>166</td>\n",
       "      <td>2</td>\n",
       "      <td>3</td>\n",
       "      <td>0</td>\n",
       "      <td>1</td>\n",
       "      <td>0</td>\n",
       "      <td>0</td>\n",
       "      <td>5.9</td>\n",
       "      <td>0</td>\n",
       "      <td>5</td>\n",
       "      <td>0</td>\n",
       "      <td>0.7</td>\n",
       "      <td>4.36</td>\n",
       "      <td>0</td>\n",
       "      <td>123785</td>\n",
       "    </tr>\n",
       "    <tr>\n",
       "      <th>4</th>\n",
       "      <td>183</td>\n",
       "      <td>165</td>\n",
       "      <td>3</td>\n",
       "      <td>1</td>\n",
       "      <td>1</td>\n",
       "      <td>1</td>\n",
       "      <td>0</td>\n",
       "      <td>0</td>\n",
       "      <td>3.8</td>\n",
       "      <td>1</td>\n",
       "      <td>8</td>\n",
       "      <td>0</td>\n",
       "      <td>0.7</td>\n",
       "      <td>0.42</td>\n",
       "      <td>0</td>\n",
       "      <td>156470</td>\n",
       "    </tr>\n",
       "  </tbody>\n",
       "</table>\n",
       "</div>"
      ],
      "text/plain": [
       "   land_size_sqm  house_size_sqm  no_of_rooms  no_of_bathrooms  \\\n",
       "0            201             177            3                1   \n",
       "1            196             182            4                3   \n",
       "2            198             182            4                4   \n",
       "3            178             166            2                3   \n",
       "4            183             165            3                1   \n",
       "\n",
       "   large_living_room  parking_space  front_garden  swimming_pool  \\\n",
       "0                  0              1             1              0   \n",
       "1                  1              1             0              1   \n",
       "2                  1              1             0              1   \n",
       "3                  0              1             0              0   \n",
       "4                  1              1             0              0   \n",
       "\n",
       "   distance_to_school  wall_fence  house_age  water_front  \\\n",
       "0                 3.3           1         10            0   \n",
       "1                 1.2           1         11            0   \n",
       "2                 5.9           0         20            0   \n",
       "3                 5.9           0          5            0   \n",
       "4                 3.8           1          8            0   \n",
       "\n",
       "   distance_to_supermarket_km  crime_rate_index  room_size  property_value  \n",
       "0                         6.8              0.90          0          165432  \n",
       "1                         4.1              1.42          1          187043  \n",
       "2                         2.1              4.12          1          148658  \n",
       "3                         0.7              4.36          0          123785  \n",
       "4                         0.7              0.42          0          156470  "
      ]
     },
     "execution_count": 3,
     "metadata": {},
     "output_type": "execute_result"
    }
   ],
   "source": [
    "data.head()"
   ]
  },
  {
   "cell_type": "code",
   "execution_count": 4,
   "metadata": {},
   "outputs": [
    {
     "data": {
      "text/plain": [
       "Index(['land_size_sqm', 'house_size_sqm', 'no_of_rooms', 'no_of_bathrooms',\n",
       "       'large_living_room', 'parking_space', 'front_garden', 'swimming_pool',\n",
       "       'distance_to_school', 'wall_fence', 'house_age', 'water_front',\n",
       "       'distance_to_supermarket_km', 'crime_rate_index', 'room_size',\n",
       "       'property_value'],\n",
       "      dtype='object')"
      ]
     },
     "execution_count": 4,
     "metadata": {},
     "output_type": "execute_result"
    }
   ],
   "source": [
    "data.columns"
   ]
  },
  {
   "cell_type": "code",
   "execution_count": 5,
   "metadata": {},
   "outputs": [
    {
     "data": {
      "text/plain": [
       "(4954, 16)"
      ]
     },
     "execution_count": 5,
     "metadata": {},
     "output_type": "execute_result"
    }
   ],
   "source": [
    "data.shape"
   ]
  },
  {
   "cell_type": "code",
   "execution_count": 6,
   "metadata": {},
   "outputs": [
    {
     "data": {
      "text/html": [
       "<div>\n",
       "<style scoped>\n",
       "    .dataframe tbody tr th:only-of-type {\n",
       "        vertical-align: middle;\n",
       "    }\n",
       "\n",
       "    .dataframe tbody tr th {\n",
       "        vertical-align: top;\n",
       "    }\n",
       "\n",
       "    .dataframe thead th {\n",
       "        text-align: right;\n",
       "    }\n",
       "</style>\n",
       "<table border=\"1\" class=\"dataframe\">\n",
       "  <thead>\n",
       "    <tr style=\"text-align: right;\">\n",
       "      <th></th>\n",
       "      <th>land_size_sqm</th>\n",
       "      <th>house_size_sqm</th>\n",
       "      <th>no_of_rooms</th>\n",
       "      <th>no_of_bathrooms</th>\n",
       "      <th>large_living_room</th>\n",
       "      <th>parking_space</th>\n",
       "      <th>front_garden</th>\n",
       "      <th>swimming_pool</th>\n",
       "      <th>distance_to_school</th>\n",
       "      <th>wall_fence</th>\n",
       "      <th>house_age</th>\n",
       "      <th>water_front</th>\n",
       "      <th>distance_to_supermarket_km</th>\n",
       "      <th>crime_rate_index</th>\n",
       "      <th>room_size</th>\n",
       "      <th>property_value</th>\n",
       "    </tr>\n",
       "  </thead>\n",
       "  <tbody>\n",
       "    <tr>\n",
       "      <th>count</th>\n",
       "      <td>4954.000000</td>\n",
       "      <td>4954.000000</td>\n",
       "      <td>4954.000000</td>\n",
       "      <td>4954.000000</td>\n",
       "      <td>4954.000000</td>\n",
       "      <td>4954.000000</td>\n",
       "      <td>4954.000000</td>\n",
       "      <td>4954.000000</td>\n",
       "      <td>4954.000000</td>\n",
       "      <td>4954.000000</td>\n",
       "      <td>4954.000000</td>\n",
       "      <td>4954.000000</td>\n",
       "      <td>4954.000000</td>\n",
       "      <td>4954.000000</td>\n",
       "      <td>4954.000000</td>\n",
       "      <td>4954.000000</td>\n",
       "    </tr>\n",
       "    <tr>\n",
       "      <th>mean</th>\n",
       "      <td>250.131409</td>\n",
       "      <td>231.250908</td>\n",
       "      <td>3.788252</td>\n",
       "      <td>3.199839</td>\n",
       "      <td>0.723860</td>\n",
       "      <td>0.763827</td>\n",
       "      <td>0.627574</td>\n",
       "      <td>0.617683</td>\n",
       "      <td>3.454219</td>\n",
       "      <td>0.630400</td>\n",
       "      <td>11.444691</td>\n",
       "      <td>0.048648</td>\n",
       "      <td>3.508639</td>\n",
       "      <td>2.986110</td>\n",
       "      <td>1.738393</td>\n",
       "      <td>201974.738999</td>\n",
       "    </tr>\n",
       "    <tr>\n",
       "      <th>std</th>\n",
       "      <td>103.131939</td>\n",
       "      <td>94.571642</td>\n",
       "      <td>1.585371</td>\n",
       "      <td>1.602300</td>\n",
       "      <td>0.447132</td>\n",
       "      <td>0.424772</td>\n",
       "      <td>0.483500</td>\n",
       "      <td>0.486003</td>\n",
       "      <td>2.007358</td>\n",
       "      <td>0.482745</td>\n",
       "      <td>6.356991</td>\n",
       "      <td>0.215152</td>\n",
       "      <td>1.991266</td>\n",
       "      <td>1.737742</td>\n",
       "      <td>0.941126</td>\n",
       "      <td>90031.882219</td>\n",
       "    </tr>\n",
       "    <tr>\n",
       "      <th>min</th>\n",
       "      <td>100.000000</td>\n",
       "      <td>85.000000</td>\n",
       "      <td>1.000000</td>\n",
       "      <td>1.000000</td>\n",
       "      <td>0.000000</td>\n",
       "      <td>0.000000</td>\n",
       "      <td>0.000000</td>\n",
       "      <td>0.000000</td>\n",
       "      <td>0.100000</td>\n",
       "      <td>0.000000</td>\n",
       "      <td>1.000000</td>\n",
       "      <td>0.000000</td>\n",
       "      <td>0.100000</td>\n",
       "      <td>0.010000</td>\n",
       "      <td>0.000000</td>\n",
       "      <td>32622.000000</td>\n",
       "    </tr>\n",
       "    <tr>\n",
       "      <th>25%</th>\n",
       "      <td>180.000000</td>\n",
       "      <td>165.000000</td>\n",
       "      <td>3.000000</td>\n",
       "      <td>2.000000</td>\n",
       "      <td>0.000000</td>\n",
       "      <td>1.000000</td>\n",
       "      <td>0.000000</td>\n",
       "      <td>0.000000</td>\n",
       "      <td>1.700000</td>\n",
       "      <td>0.000000</td>\n",
       "      <td>6.000000</td>\n",
       "      <td>0.000000</td>\n",
       "      <td>1.800000</td>\n",
       "      <td>1.470000</td>\n",
       "      <td>1.000000</td>\n",
       "      <td>136777.000000</td>\n",
       "    </tr>\n",
       "    <tr>\n",
       "      <th>50%</th>\n",
       "      <td>235.000000</td>\n",
       "      <td>217.500000</td>\n",
       "      <td>4.000000</td>\n",
       "      <td>3.000000</td>\n",
       "      <td>1.000000</td>\n",
       "      <td>1.000000</td>\n",
       "      <td>1.000000</td>\n",
       "      <td>1.000000</td>\n",
       "      <td>3.400000</td>\n",
       "      <td>1.000000</td>\n",
       "      <td>11.000000</td>\n",
       "      <td>0.000000</td>\n",
       "      <td>3.500000</td>\n",
       "      <td>3.020000</td>\n",
       "      <td>2.000000</td>\n",
       "      <td>194515.500000</td>\n",
       "    </tr>\n",
       "    <tr>\n",
       "      <th>75%</th>\n",
       "      <td>295.000000</td>\n",
       "      <td>274.000000</td>\n",
       "      <td>5.000000</td>\n",
       "      <td>4.000000</td>\n",
       "      <td>1.000000</td>\n",
       "      <td>1.000000</td>\n",
       "      <td>1.000000</td>\n",
       "      <td>1.000000</td>\n",
       "      <td>5.200000</td>\n",
       "      <td>1.000000</td>\n",
       "      <td>17.000000</td>\n",
       "      <td>0.000000</td>\n",
       "      <td>5.300000</td>\n",
       "      <td>4.490000</td>\n",
       "      <td>2.000000</td>\n",
       "      <td>246590.000000</td>\n",
       "    </tr>\n",
       "    <tr>\n",
       "      <th>max</th>\n",
       "      <td>796.000000</td>\n",
       "      <td>760.000000</td>\n",
       "      <td>8.000000</td>\n",
       "      <td>9.000000</td>\n",
       "      <td>1.000000</td>\n",
       "      <td>1.000000</td>\n",
       "      <td>1.000000</td>\n",
       "      <td>1.000000</td>\n",
       "      <td>6.900000</td>\n",
       "      <td>1.000000</td>\n",
       "      <td>22.000000</td>\n",
       "      <td>1.000000</td>\n",
       "      <td>6.900000</td>\n",
       "      <td>5.990000</td>\n",
       "      <td>3.000000</td>\n",
       "      <td>692086.000000</td>\n",
       "    </tr>\n",
       "  </tbody>\n",
       "</table>\n",
       "</div>"
      ],
      "text/plain": [
       "       land_size_sqm  house_size_sqm  no_of_rooms  no_of_bathrooms  \\\n",
       "count    4954.000000     4954.000000  4954.000000      4954.000000   \n",
       "mean      250.131409      231.250908     3.788252         3.199839   \n",
       "std       103.131939       94.571642     1.585371         1.602300   \n",
       "min       100.000000       85.000000     1.000000         1.000000   \n",
       "25%       180.000000      165.000000     3.000000         2.000000   \n",
       "50%       235.000000      217.500000     4.000000         3.000000   \n",
       "75%       295.000000      274.000000     5.000000         4.000000   \n",
       "max       796.000000      760.000000     8.000000         9.000000   \n",
       "\n",
       "       large_living_room  parking_space  front_garden  swimming_pool  \\\n",
       "count        4954.000000    4954.000000   4954.000000    4954.000000   \n",
       "mean            0.723860       0.763827      0.627574       0.617683   \n",
       "std             0.447132       0.424772      0.483500       0.486003   \n",
       "min             0.000000       0.000000      0.000000       0.000000   \n",
       "25%             0.000000       1.000000      0.000000       0.000000   \n",
       "50%             1.000000       1.000000      1.000000       1.000000   \n",
       "75%             1.000000       1.000000      1.000000       1.000000   \n",
       "max             1.000000       1.000000      1.000000       1.000000   \n",
       "\n",
       "       distance_to_school   wall_fence    house_age  water_front  \\\n",
       "count         4954.000000  4954.000000  4954.000000  4954.000000   \n",
       "mean             3.454219     0.630400    11.444691     0.048648   \n",
       "std              2.007358     0.482745     6.356991     0.215152   \n",
       "min              0.100000     0.000000     1.000000     0.000000   \n",
       "25%              1.700000     0.000000     6.000000     0.000000   \n",
       "50%              3.400000     1.000000    11.000000     0.000000   \n",
       "75%              5.200000     1.000000    17.000000     0.000000   \n",
       "max              6.900000     1.000000    22.000000     1.000000   \n",
       "\n",
       "       distance_to_supermarket_km  crime_rate_index    room_size  \\\n",
       "count                 4954.000000       4954.000000  4954.000000   \n",
       "mean                     3.508639          2.986110     1.738393   \n",
       "std                      1.991266          1.737742     0.941126   \n",
       "min                      0.100000          0.010000     0.000000   \n",
       "25%                      1.800000          1.470000     1.000000   \n",
       "50%                      3.500000          3.020000     2.000000   \n",
       "75%                      5.300000          4.490000     2.000000   \n",
       "max                      6.900000          5.990000     3.000000   \n",
       "\n",
       "       property_value  \n",
       "count     4954.000000  \n",
       "mean    201974.738999  \n",
       "std      90031.882219  \n",
       "min      32622.000000  \n",
       "25%     136777.000000  \n",
       "50%     194515.500000  \n",
       "75%     246590.000000  \n",
       "max     692086.000000  "
      ]
     },
     "execution_count": 6,
     "metadata": {},
     "output_type": "execute_result"
    }
   ],
   "source": [
    "data.describe()"
   ]
  },
  {
   "cell_type": "code",
   "execution_count": 7,
   "metadata": {},
   "outputs": [],
   "source": [
    "### To predict price of house"
   ]
  },
  {
   "cell_type": "code",
   "execution_count": 8,
   "metadata": {
    "scrolled": false
   },
   "outputs": [
    {
     "data": {
      "text/plain": [
       "<seaborn.axisgrid.FacetGrid at 0x7f8074afe490>"
      ]
     },
     "execution_count": 8,
     "metadata": {},
     "output_type": "execute_result"
    },
    {
     "data": {
      "image/png": "[encoded data removed]",
      "text/plain": [
       "<Figure size 360x360 with 1 Axes>"
      ]
     },
     "metadata": {
      "needs_background": "light"
     },
     "output_type": "display_data"
    }
   ],
   "source": [
    "sns.relplot(x = 'property_value', y = 'no_of_bathrooms' , data = data)"
   ]
  },
  {
   "cell_type": "code",
   "execution_count": 9,
   "metadata": {},
   "outputs": [],
   "source": [
    "### Houses with waterfront and a number of rooms"
   ]
  },
  {
   "cell_type": "code",
   "execution_count": 10,
   "metadata": {},
   "outputs": [
    {
     "data": {
      "text/plain": [
       "<seaborn.axisgrid.FacetGrid at 0x7f80756c4c90>"
      ]
     },
     "execution_count": 10,
     "metadata": {},
     "output_type": "execute_result"
    },
    {
     "data": {
      "image/png": "[encoded data removed]",
      "text/plain": [
       "<Figure size 425.125x360 with 1 Axes>"
      ]
     },
     "metadata": {
      "needs_background": "light"
     },
     "output_type": "display_data"
    }
   ],
   "source": [
    "sns.relplot(x = 'property_value', y = 'no_of_rooms' , hue = 'water_front', data = data)"
   ]
  },
  {
   "cell_type": "code",
   "execution_count": 11,
   "metadata": {},
   "outputs": [],
   "source": [
    "# choosing my model"
   ]
  },
  {
   "cell_type": "code",
   "execution_count": 12,
   "metadata": {},
   "outputs": [],
   "source": [
    "from sklearn.linear_model import LinearRegression\n",
    "from sklearn.model_selection import train_test_split"
   ]
  },
  {
   "cell_type": "code",
   "execution_count": 13,
   "metadata": {},
   "outputs": [],
   "source": [
    "train_data = data.drop(['property_value', 'house_age'], axis=1)\n",
    "test_data = data['property_value']"
   ]
  },
  {
   "cell_type": "code",
   "execution_count": 14,
   "metadata": {},
   "outputs": [],
   "source": [
    "X_train_data , X_test_data , y_train_data, y_test_data = train_test_split(train_data, test_data, test_size=0.4, random_state=4)"
   ]
  },
  {
   "cell_type": "code",
   "execution_count": 15,
   "metadata": {},
   "outputs": [],
   "source": [
    "model = LinearRegression()"
   ]
  },
  {
   "cell_type": "code",
   "execution_count": 16,
   "metadata": {},
   "outputs": [
    {
     "data": {
      "text/plain": [
       "LinearRegression()"
      ]
     },
     "execution_count": 16,
     "metadata": {},
     "output_type": "execute_result"
    }
   ],
   "source": [
    "model.fit(X_train_data, y_train_data)"
   ]
  },
  {
   "cell_type": "code",
   "execution_count": 17,
   "metadata": {},
   "outputs": [],
   "source": [
    "pred =   model.predict(X_test_data)"
   ]
  },
  {
   "cell_type": "code",
   "execution_count": 18,
   "metadata": {},
   "outputs": [
    {
     "data": {
      "text/plain": [
       "array([245612.19794118, 309925.93922872, 130067.36556509, ...,\n",
       "       104642.08948672, 252440.8029068 , 179678.97884029])"
      ]
     },
     "execution_count": 18,
     "metadata": {},
     "output_type": "execute_result"
    }
   ],
   "source": [
    "pred"
   ]
  },
  {
   "cell_type": "code",
   "execution_count": 19,
   "metadata": {},
   "outputs": [
    {
     "data": {
      "text/plain": [
       "0.984788072019639"
      ]
     },
     "execution_count": 19,
     "metadata": {},
     "output_type": "execute_result"
    }
   ],
   "source": [
    "model.score(X_test_data, y_test_data)"
   ]
  },
  {
   "cell_type": "code",
   "execution_count": null,
   "metadata": {},
   "outputs": [],
   "source": []
  }
 ],
 "metadata": {
  "kernelspec": {
   "display_name": "Python 3",
   "language": "python",
   "name": "python3"
  },
  "language_info": {
   "codemirror_mode": {
    "name": "ipython",
    "version": 3
   },
   "file_extension": ".py",
   "mimetype": "text/x-python",
   "name": "python",
   "nbconvert_exporter": "python",
   "pygments_lexer": "ipython3",
   "version": "3.7.9"
  }
 },
 "nbformat": 4,
 "nbformat_minor": 4
}
